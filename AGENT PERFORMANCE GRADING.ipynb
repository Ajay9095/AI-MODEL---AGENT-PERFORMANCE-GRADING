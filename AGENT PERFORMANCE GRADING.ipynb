{
 "cells": [
  {
   "cell_type": "markdown",
   "id": "b80131f6",
   "metadata": {},
   "source": [
    "# AGENT PERFORMANCE GRADING: OPTIMIZING CUSTOMER SERVICE"
   ]
  },
  {
   "cell_type": "markdown",
   "id": "3197155b",
   "metadata": {},
   "source": [
    "# Install Necessary Libraries"
   ]
  },
  {
   "cell_type": "code",
   "execution_count": null,
   "id": "0167fd88",
   "metadata": {},
   "outputs": [],
   "source": [
    "!pip install pandas numpy nltk sklearn vaderSentiment spacy\n",
    "!python -m spacy download en_core_web_sm"
   ]
  },
  {
   "cell_type": "code",
   "execution_count": null,
   "id": "e4c31207",
   "metadata": {},
   "outputs": [],
   "source": [
    "pip install vaderSentiment"
   ]
  },
  {
   "cell_type": "markdown",
   "id": "af807e11",
   "metadata": {},
   "source": [
    "# Import Libraries"
   ]
  },
  {
   "cell_type": "code",
   "execution_count": 1,
   "id": "ef2e4a4c",
   "metadata": {},
   "outputs": [],
   "source": [
    "import pandas as pd\n",
    "import numpy as np\n",
    "import re\n",
    "from nltk.corpus import stopwords\n",
    "from nltk.tokenize import word_tokenize\n",
    "from sklearn.feature_extraction.text import TfidfVectorizer\n",
    "from vaderSentiment.vaderSentiment import SentimentIntensityAnalyzer\n",
    "import spacy\n",
    "from sklearn.ensemble import RandomForestClassifier\n",
    "from sklearn.model_selection import train_test_split, GridSearchCV, cross_val_score\n",
    "from sklearn.metrics import accuracy_score, classification_report\n",
    "import matplotlib.pyplot as plt"
   ]
  },
  {
   "cell_type": "markdown",
   "id": "c4b89bad",
   "metadata": {},
   "source": [
    "# Load and Prepare Data"
   ]
  },
  {
   "cell_type": "code",
   "execution_count": 3,
   "id": "f855e710",
   "metadata": {},
   "outputs": [],
   "source": [
    "data = pd.DataFrame({\n",
    "    'agent_id': [1, 2, 1, 2, 3, 1, 2, 3, 1, 2] * 10,\n",
    "    'customer_id': [101, 102, 103, 104, 105, 106, 107, 108, 109, 110] * 10,\n",
    "    'text': [\n",
    "        \"The product delivery was delayed... I'm very disappointed!!!\",\n",
    "        \"Thank you for the quick response and resolution. :)\",\n",
    "        \"I still haven't received my order!!! This is frustrating...\",\n",
    "        \"Excellent service and very helpful support!\",\n",
    "        \"The issue was resolved promptly. Great job!! :-)\",\n",
    "        \"Why is my order still pending? I need it urgently!\",\n",
    "        \"Your service is amazing, keep it up!\",\n",
    "        \"I'm not happy with the delay in your service.\",\n",
    "        \"Can you please expedite my order delivery?\",\n",
    "        \"Great customer support, thank you!\"\n",
    "    ] * 10,\n",
    "    'resolved': [0, 1, 0, 1, 1, 0, 1, 0, 0, 1] * 10,\n",
    "    'response_time': [300, 50, 400, 30, 60, 500, 20, 350, 450, 25] * 10,\n",
    "    'customer_feedback': [\n",
    "        \"negative\", \"positive\", \"negative\", \"positive\", \"positive\",\n",
    "        \"negative\", \"positive\", \"negative\", \"negative\", \"positive\"\n",
    "    ] * 10\n",
    "})"
   ]
  },
  {
   "cell_type": "code",
   "execution_count": 4,
   "id": "6f738cb7",
   "metadata": {},
   "outputs": [
    {
     "data": {
      "text/html": [
       "<div>\n",
       "<style scoped>\n",
       "    .dataframe tbody tr th:only-of-type {\n",
       "        vertical-align: middle;\n",
       "    }\n",
       "\n",
       "    .dataframe tbody tr th {\n",
       "        vertical-align: top;\n",
       "    }\n",
       "\n",
       "    .dataframe thead th {\n",
       "        text-align: right;\n",
       "    }\n",
       "</style>\n",
       "<table border=\"1\" class=\"dataframe\">\n",
       "  <thead>\n",
       "    <tr style=\"text-align: right;\">\n",
       "      <th></th>\n",
       "      <th>agent_id</th>\n",
       "      <th>customer_id</th>\n",
       "      <th>text</th>\n",
       "      <th>resolved</th>\n",
       "      <th>response_time</th>\n",
       "      <th>customer_feedback</th>\n",
       "    </tr>\n",
       "  </thead>\n",
       "  <tbody>\n",
       "    <tr>\n",
       "      <th>0</th>\n",
       "      <td>1</td>\n",
       "      <td>101</td>\n",
       "      <td>The product delivery was delayed... I'm very d...</td>\n",
       "      <td>0</td>\n",
       "      <td>300</td>\n",
       "      <td>negative</td>\n",
       "    </tr>\n",
       "    <tr>\n",
       "      <th>1</th>\n",
       "      <td>2</td>\n",
       "      <td>102</td>\n",
       "      <td>Thank you for the quick response and resolutio...</td>\n",
       "      <td>1</td>\n",
       "      <td>50</td>\n",
       "      <td>positive</td>\n",
       "    </tr>\n",
       "    <tr>\n",
       "      <th>2</th>\n",
       "      <td>1</td>\n",
       "      <td>103</td>\n",
       "      <td>I still haven't received my order!!! This is f...</td>\n",
       "      <td>0</td>\n",
       "      <td>400</td>\n",
       "      <td>negative</td>\n",
       "    </tr>\n",
       "    <tr>\n",
       "      <th>3</th>\n",
       "      <td>2</td>\n",
       "      <td>104</td>\n",
       "      <td>Excellent service and very helpful support!</td>\n",
       "      <td>1</td>\n",
       "      <td>30</td>\n",
       "      <td>positive</td>\n",
       "    </tr>\n",
       "    <tr>\n",
       "      <th>4</th>\n",
       "      <td>3</td>\n",
       "      <td>105</td>\n",
       "      <td>The issue was resolved promptly. Great job!! :-)</td>\n",
       "      <td>1</td>\n",
       "      <td>60</td>\n",
       "      <td>positive</td>\n",
       "    </tr>\n",
       "    <tr>\n",
       "      <th>...</th>\n",
       "      <td>...</td>\n",
       "      <td>...</td>\n",
       "      <td>...</td>\n",
       "      <td>...</td>\n",
       "      <td>...</td>\n",
       "      <td>...</td>\n",
       "    </tr>\n",
       "    <tr>\n",
       "      <th>95</th>\n",
       "      <td>1</td>\n",
       "      <td>106</td>\n",
       "      <td>Why is my order still pending? I need it urgen...</td>\n",
       "      <td>0</td>\n",
       "      <td>500</td>\n",
       "      <td>negative</td>\n",
       "    </tr>\n",
       "    <tr>\n",
       "      <th>96</th>\n",
       "      <td>2</td>\n",
       "      <td>107</td>\n",
       "      <td>Your service is amazing, keep it up!</td>\n",
       "      <td>1</td>\n",
       "      <td>20</td>\n",
       "      <td>positive</td>\n",
       "    </tr>\n",
       "    <tr>\n",
       "      <th>97</th>\n",
       "      <td>3</td>\n",
       "      <td>108</td>\n",
       "      <td>I'm not happy with the delay in your service.</td>\n",
       "      <td>0</td>\n",
       "      <td>350</td>\n",
       "      <td>negative</td>\n",
       "    </tr>\n",
       "    <tr>\n",
       "      <th>98</th>\n",
       "      <td>1</td>\n",
       "      <td>109</td>\n",
       "      <td>Can you please expedite my order delivery?</td>\n",
       "      <td>0</td>\n",
       "      <td>450</td>\n",
       "      <td>negative</td>\n",
       "    </tr>\n",
       "    <tr>\n",
       "      <th>99</th>\n",
       "      <td>2</td>\n",
       "      <td>110</td>\n",
       "      <td>Great customer support, thank you!</td>\n",
       "      <td>1</td>\n",
       "      <td>25</td>\n",
       "      <td>positive</td>\n",
       "    </tr>\n",
       "  </tbody>\n",
       "</table>\n",
       "<p>100 rows × 6 columns</p>\n",
       "</div>"
      ],
      "text/plain": [
       "    agent_id  customer_id                                               text  \\\n",
       "0          1          101  The product delivery was delayed... I'm very d...   \n",
       "1          2          102  Thank you for the quick response and resolutio...   \n",
       "2          1          103  I still haven't received my order!!! This is f...   \n",
       "3          2          104        Excellent service and very helpful support!   \n",
       "4          3          105   The issue was resolved promptly. Great job!! :-)   \n",
       "..       ...          ...                                                ...   \n",
       "95         1          106  Why is my order still pending? I need it urgen...   \n",
       "96         2          107               Your service is amazing, keep it up!   \n",
       "97         3          108      I'm not happy with the delay in your service.   \n",
       "98         1          109         Can you please expedite my order delivery?   \n",
       "99         2          110                 Great customer support, thank you!   \n",
       "\n",
       "    resolved  response_time customer_feedback  \n",
       "0          0            300          negative  \n",
       "1          1             50          positive  \n",
       "2          0            400          negative  \n",
       "3          1             30          positive  \n",
       "4          1             60          positive  \n",
       "..       ...            ...               ...  \n",
       "95         0            500          negative  \n",
       "96         1             20          positive  \n",
       "97         0            350          negative  \n",
       "98         0            450          negative  \n",
       "99         1             25          positive  \n",
       "\n",
       "[100 rows x 6 columns]"
      ]
     },
     "execution_count": 4,
     "metadata": {},
     "output_type": "execute_result"
    }
   ],
   "source": [
    "data"
   ]
  },
  {
   "cell_type": "markdown",
   "id": "6d733d8c",
   "metadata": {},
   "source": [
    "# Data Preprocessing"
   ]
  },
  {
   "cell_type": "code",
   "execution_count": 5,
   "id": "8854134b",
   "metadata": {},
   "outputs": [
    {
     "name": "stdout",
     "output_type": "stream",
     "text": [
      "                                                 text  \\\n",
      "0   The product delivery was delayed... I'm very d...   \n",
      "1   Thank you for the quick response and resolutio...   \n",
      "2   I still haven't received my order!!! This is f...   \n",
      "3         Excellent service and very helpful support!   \n",
      "4    The issue was resolved promptly. Great job!! :-)   \n",
      "..                                                ...   \n",
      "95  Why is my order still pending? I need it urgen...   \n",
      "96               Your service is amazing, keep it up!   \n",
      "97      I'm not happy with the delay in your service.   \n",
      "98         Can you please expedite my order delivery?   \n",
      "99                 Great customer support, thank you!   \n",
      "\n",
      "                                           clean_text  \\\n",
      "0   the product delivery was delayed im very disap...   \n",
      "1     thank you for the quick response and resolution   \n",
      "2   i still havent received my order this is frust...   \n",
      "3          excellent service and very helpful support   \n",
      "4           the issue was resolved promptly great job   \n",
      "..                                                ...   \n",
      "95   why is my order still pending i need it urgently   \n",
      "96                 your service is amazing keep it up   \n",
      "97        im not happy with the delay in your service   \n",
      "98          can you please expedite my order delivery   \n",
      "99                   great customer support thank you   \n",
      "\n",
      "                                            tokens  \n",
      "0   [product, delivery, delayed, im, disappointed]  \n",
      "1             [thank, quick, response, resolution]  \n",
      "2    [still, havent, received, order, frustrating]  \n",
      "3           [excellent, service, helpful, support]  \n",
      "4          [issue, resolved, promptly, great, job]  \n",
      "..                                             ...  \n",
      "95         [order, still, pending, need, urgently]  \n",
      "96                        [service, amazing, keep]  \n",
      "97                     [im, happy, delay, service]  \n",
      "98             [please, expedite, order, delivery]  \n",
      "99               [great, customer, support, thank]  \n",
      "\n",
      "[100 rows x 3 columns]\n"
     ]
    }
   ],
   "source": [
    "stop_words = set(stopwords.words('english'))\n",
    "\n",
    "def clean_text(text):\n",
    "    text = re.sub(r'<[^>]+>', '', text)\n",
    "    text = re.sub(r'\\s+', ' ', text)\n",
    "    text = re.sub(r'[^\\w\\s]', '', text)\n",
    "    text = text.lower()\n",
    "    return text.strip()\n",
    "\n",
    "def tokenize_and_remove_stopwords(text):\n",
    "    tokens = word_tokenize(text)\n",
    "    tokens = [token for token in tokens if token.lower() not in stop_words]\n",
    "    return tokens\n",
    "\n",
    "data['clean_text'] = data['text'].apply(clean_text)\n",
    "data['tokens'] = data['clean_text'].apply(tokenize_and_remove_stopwords)\n",
    "print(data[['text', 'clean_text', 'tokens']])\n"
   ]
  },
  {
   "cell_type": "markdown",
   "id": "0844927b",
   "metadata": {},
   "source": [
    "# Sentiment Analysis"
   ]
  },
  {
   "cell_type": "code",
   "execution_count": 6,
   "id": "9b201cfa",
   "metadata": {},
   "outputs": [
    {
     "name": "stdout",
     "output_type": "stream",
     "text": [
      "                                                 text  sentiment\n",
      "0   The product delivery was delayed... I'm very d...    -0.6478\n",
      "1   Thank you for the quick response and resolutio...     0.3612\n",
      "2   I still haven't received my order!!! This is f...    -0.4404\n",
      "3         Excellent service and very helpful support!     0.8680\n",
      "4    The issue was resolved promptly. Great job!! :-)     0.7003\n",
      "..                                                ...        ...\n",
      "95  Why is my order still pending? I need it urgen...     0.0000\n",
      "96               Your service is amazing, keep it up!     0.5859\n",
      "97      I'm not happy with the delay in your service.    -0.6483\n",
      "98         Can you please expedite my order delivery?     0.3182\n",
      "99                 Great customer support, thank you!     0.8519\n",
      "\n",
      "[100 rows x 2 columns]\n"
     ]
    }
   ],
   "source": [
    "analyzer = SentimentIntensityAnalyzer()\n",
    "data['sentiment'] = data['clean_text'].apply(lambda x: analyzer.polarity_scores(x)['compound'])\n",
    "print(data[['text', 'sentiment']])\n"
   ]
  },
  {
   "cell_type": "markdown",
   "id": "bdd8326a",
   "metadata": {},
   "source": [
    "# Keyword Extraction using TF-IDF"
   ]
  },
  {
   "cell_type": "code",
   "execution_count": 7,
   "id": "51d2d817",
   "metadata": {},
   "outputs": [
    {
     "name": "stdout",
     "output_type": "stream",
     "text": [
      "                                                 text  \\\n",
      "0   The product delivery was delayed... I'm very d...   \n",
      "1   Thank you for the quick response and resolutio...   \n",
      "2   I still haven't received my order!!! This is f...   \n",
      "3         Excellent service and very helpful support!   \n",
      "4    The issue was resolved promptly. Great job!! :-)   \n",
      "..                                                ...   \n",
      "95  Why is my order still pending? I need it urgen...   \n",
      "96               Your service is amazing, keep it up!   \n",
      "97      I'm not happy with the delay in your service.   \n",
      "98         Can you please expedite my order delivery?   \n",
      "99                 Great customer support, thank you!   \n",
      "\n",
      "                                                tfidf  \n",
      "0   [0.8039456888755269, 0.0, 0.0, 0.0, 0.0, 0.0, ...  \n",
      "1   [0.0, 0.0, 0.0, 0.0, 0.0, 0.0, 0.0, 0.65714454...  \n",
      "2   [0.0, 0.5773502691896257, 0.0, 0.5773502691896...  \n",
      "3   [0.0, 0.0, 0.0, 0.0, 0.0, 0.6469808613753582, ...  \n",
      "4   [0.0, 0.0, 0.0, 0.0, 0.0, 0.0, 0.0, 1.0, 0.0, ...  \n",
      "..                                                ...  \n",
      "95  [0.0, 0.4773280344790324, 0.5625600790148116, ...  \n",
      "96  [0.0, 0.45748455437642943, 0.5391733325258213,...  \n",
      "97  [0.5532432515583213, 0.0, 0.0, 0.0, 0.0, 0.469...  \n",
      "98  [0.0, 0.0, 0.0, 0.5773502691896257, 0.57735026...  \n",
      "99  [0.0, 0.0, 0.0, 0.0, 0.0, 0.0, 0.7625062393279...  \n",
      "\n",
      "[100 rows x 2 columns]\n"
     ]
    }
   ],
   "source": [
    "vectorizer = TfidfVectorizer(max_features=10)\n",
    "tfidf_matrix = vectorizer.fit_transform(data['clean_text'])\n",
    "data['tfidf'] = list(tfidf_matrix.toarray())\n",
    "print(data[['text', 'tfidf']])\n"
   ]
  },
  {
   "cell_type": "markdown",
   "id": "c4493632",
   "metadata": {},
   "source": [
    "# Named Entity Recognition (NER)"
   ]
  },
  {
   "cell_type": "code",
   "execution_count": 8,
   "id": "8062bc77",
   "metadata": {},
   "outputs": [
    {
     "name": "stdout",
     "output_type": "stream",
     "text": [
      "                                                 text entities\n",
      "0   The product delivery was delayed... I'm very d...       []\n",
      "1   Thank you for the quick response and resolutio...       []\n",
      "2   I still haven't received my order!!! This is f...       []\n",
      "3         Excellent service and very helpful support!       []\n",
      "4    The issue was resolved promptly. Great job!! :-)       []\n",
      "..                                                ...      ...\n",
      "95  Why is my order still pending? I need it urgen...       []\n",
      "96               Your service is amazing, keep it up!       []\n",
      "97      I'm not happy with the delay in your service.       []\n",
      "98         Can you please expedite my order delivery?       []\n",
      "99                 Great customer support, thank you!       []\n",
      "\n",
      "[100 rows x 2 columns]\n"
     ]
    }
   ],
   "source": [
    "nlp = spacy.load('en_core_web_sm')\n",
    "def recognize_entities(text):\n",
    "    doc = nlp(text)\n",
    "    return [(ent.text, ent.label_) for ent in doc.ents]\n",
    "\n",
    "data['entities'] = data['clean_text'].apply(recognize_entities)\n",
    "print(data[['text', 'entities']])\n"
   ]
  },
  {
   "cell_type": "markdown",
   "id": "be637a70",
   "metadata": {},
   "source": [
    "# Model Training"
   ]
  },
  {
   "cell_type": "code",
   "execution_count": 9,
   "id": "56316065",
   "metadata": {},
   "outputs": [
    {
     "name": "stdout",
     "output_type": "stream",
     "text": [
      "Best Parameters: {'max_depth': None, 'min_samples_leaf': 1, 'min_samples_split': 2}\n",
      "Cross-validation Scores: [1. 1.]\n",
      "Accuracy: 1.0\n",
      "Classification Report:\n",
      "              precision    recall  f1-score   support\n",
      "\n",
      "           0       1.00      1.00      1.00        11\n",
      "           1       1.00      1.00      1.00         9\n",
      "\n",
      "    accuracy                           1.00        20\n",
      "   macro avg       1.00      1.00      1.00        20\n",
      "weighted avg       1.00      1.00      1.00        20\n",
      "\n"
     ]
    }
   ],
   "source": [
    "# Combine features for training\n",
    "features = np.concatenate((tfidf_matrix.toarray(), data[['sentiment', 'response_time']].values), axis=1)\n",
    "labels = data['resolved']\n",
    "\n",
    "X_train, X_test, y_train, y_test = train_test_split(features, labels, test_size=0.2, random_state=42)\n",
    "\n",
    "rf_clf = RandomForestClassifier(n_estimators=100, random_state=42)\n",
    "\n",
    "param_grid = {\n",
    "    'max_depth': [None, 10, 20],\n",
    "    'min_samples_split': [2, 5],\n",
    "    'min_samples_leaf': [1, 2]\n",
    "}\n",
    "\n",
    "grid_search = GridSearchCV(estimator=rf_clf, param_grid=param_grid, cv=2)\n",
    "grid_search.fit(X_train, y_train)\n",
    "\n",
    "best_params = grid_search.best_params_\n",
    "cv_scores = cross_val_score(grid_search.best_estimator_, X_train, y_train, cv=2)\n",
    "\n",
    "y_pred = grid_search.predict(X_test)\n",
    "accuracy = accuracy_score(y_test, y_pred)\n",
    "classification_rep = classification_report(y_test, y_pred)\n",
    "\n",
    "print(f\"Best Parameters: {best_params}\")\n",
    "print(f\"Cross-validation Scores: {cv_scores}\")\n",
    "print(f\"Accuracy: {accuracy}\")\n",
    "print(f\"Classification Report:\\n{classification_rep}\")"
   ]
  },
  {
   "cell_type": "markdown",
   "id": "355246ba",
   "metadata": {},
   "source": [
    "# Scoring and Ranking Agents"
   ]
  },
  {
   "cell_type": "code",
   "execution_count": 10,
   "id": "25c4e810",
   "metadata": {},
   "outputs": [
    {
     "name": "stdout",
     "output_type": "stream",
     "text": [
      "Agent Scores:\n",
      " agent_id\n",
      "2    0.707192\n",
      "3    0.259752\n",
      "1   -0.057247\n",
      "Name: composite_score, dtype: float64\n"
     ]
    }
   ],
   "source": [
    "data['composite_score'] = (\n",
    "    0.3 * data['sentiment'] +\n",
    "    0.3 * data['resolved'] +\n",
    "    0.2 * (1 / data['response_time']) +\n",
    "    0.2 * (data['customer_feedback'] == 'positive').astype(int)\n",
    ")\n",
    "\n",
    "agent_scores = data.groupby('agent_id')['composite_score'].mean().sort_values(ascending=False)\n",
    "print(\"Agent Scores:\\n\", agent_scores)\n"
   ]
  },
  {
   "cell_type": "code",
   "execution_count": 19,
   "id": "662e5ced",
   "metadata": {},
   "outputs": [],
   "source": [
    "agent_scores = {\n",
    "    'Agent 1': -0.057247,\n",
    "    'Agent 2': 0.707192,\n",
    "    'Agent 3': 0.259752\n",
    "}"
   ]
  },
  {
   "cell_type": "markdown",
   "id": "5f7cad61",
   "metadata": {},
   "source": [
    "# Visualization"
   ]
  },
  {
   "cell_type": "code",
   "execution_count": 24,
   "id": "2d537020",
   "metadata": {},
   "outputs": [
    {
     "data": {
      "image/png": "[encoded data removed]",
      "text/plain": [
       "<Figure size 1000x600 with 1 Axes>"
      ]
     },
     "metadata": {},
     "output_type": "display_data"
    }
   ],
   "source": [
    "# Convert data to lists for plotting\n",
    "agents = list(agent_scores.keys())\n",
    "scores = list(agent_scores.values())\n",
    "\n",
    "plt.figure(figsize=(10, 6))\n",
    "plt.bar(agents, scores, capsize=5)\n",
    "plt.xlabel('Agent')\n",
    "plt.ylabel('Composite Score')\n",
    "plt.title('Agent Performance Scores')\n",
    "plt.ylim(-0.5, 1.0)  \n",
    "plt.grid(True)\n",
    "plt.tight_layout()\n",
    "plt.show()"
   ]
  },
  {
   "cell_type": "code",
   "execution_count": null,
   "id": "07fa7167",
   "metadata": {},
   "outputs": [],
   "source": []
  },
  {
   "cell_type": "code",
   "execution_count": null,
   "id": "f7a4d823",
   "metadata": {},
   "outputs": [],
   "source": []
  }
 ],
 "metadata": {
  "kernelspec": {
   "display_name": "Python 3 (ipykernel)",
   "language": "python",
   "name": "python3"
  },
  "language_info": {
   "codemirror_mode": {
    "name": "ipython",
    "version": 3
   },
   "file_extension": ".py",
   "mimetype": "text/x-python",
   "name": "python",
   "nbconvert_exporter": "python",
   "pygments_lexer": "ipython3",
   "version": "3.10.9"
  }
 },
 "nbformat": 4,
 "nbformat_minor": 5
}
